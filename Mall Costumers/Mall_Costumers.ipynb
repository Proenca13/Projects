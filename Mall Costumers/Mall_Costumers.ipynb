{
 "cells": [
  {
   "metadata": {
    "collapsed": true
   },
   "cell_type": "markdown",
   "source": "## Mall Costumers Clustering",
   "id": "845119ef14f43da8"
  },
  {
   "metadata": {},
   "cell_type": "markdown",
   "source": "### Import Required Libraries",
   "id": "682e55ad10040a5f"
  },
  {
   "metadata": {
    "ExecuteTime": {
     "end_time": "2025-08-07T21:11:29.026030Z",
     "start_time": "2025-08-07T21:11:29.020351Z"
    }
   },
   "cell_type": "code",
   "source": [
    "## Data manipulation and analysis\n",
    "import pandas as pd\n",
    "import numpy as np\n",
    "\n",
    "## Data visualization\n",
    "import matplotlib.pyplot as plt\n",
    "import seaborn as sns\n"
   ],
   "id": "b4e0fadd6cfb77ec",
   "outputs": [],
   "execution_count": 2
  },
  {
   "metadata": {},
   "cell_type": "markdown",
   "source": "### Load and Explore Dataset",
   "id": "6055b8462158080"
  },
  {
   "metadata": {
    "ExecuteTime": {
     "end_time": "2025-08-07T21:15:58.683654Z",
     "start_time": "2025-08-07T21:15:58.663073Z"
    }
   },
   "cell_type": "code",
   "source": [
    "db = pd.read_csv(\"Mall_Customers.csv\")\n",
    "\n",
    "print(\" -------- Head -------- \")\n",
    "print(db.head())"
   ],
   "id": "5c83f86b645b41df",
   "outputs": [
    {
     "name": "stdout",
     "output_type": "stream",
     "text": [
      " -------- Head -------- \n",
      "   CustomerID   Genre  Age  Annual Income (k$)  Spending Score (1-100)\n",
      "0           1    Male   19                  15                      39\n",
      "1           2    Male   21                  15                      81\n",
      "2           3  Female   20                  16                       6\n",
      "3           4  Female   23                  16                      77\n",
      "4           5  Female   31                  17                      40\n"
     ]
    }
   ],
   "execution_count": 5
  },
  {
   "metadata": {
    "ExecuteTime": {
     "end_time": "2025-08-07T21:16:02.401721Z",
     "start_time": "2025-08-07T21:16:02.380590Z"
    }
   },
   "cell_type": "code",
   "source": [
    "print(\" -------- Info -------- \")\n",
    "print(db.info())"
   ],
   "id": "1ed1259f7ff15c2",
   "outputs": [
    {
     "name": "stdout",
     "output_type": "stream",
     "text": [
      " -------- Info -------- \n",
      "<class 'pandas.core.frame.DataFrame'>\n",
      "RangeIndex: 200 entries, 0 to 199\n",
      "Data columns (total 5 columns):\n",
      " #   Column                  Non-Null Count  Dtype \n",
      "---  ------                  --------------  ----- \n",
      " 0   CustomerID              200 non-null    int64 \n",
      " 1   Genre                   200 non-null    object\n",
      " 2   Age                     200 non-null    int64 \n",
      " 3   Annual Income (k$)      200 non-null    int64 \n",
      " 4   Spending Score (1-100)  200 non-null    int64 \n",
      "dtypes: int64(4), object(1)\n",
      "memory usage: 7.9+ KB\n",
      "None\n"
     ]
    }
   ],
   "execution_count": 6
  },
  {
   "metadata": {
    "ExecuteTime": {
     "end_time": "2025-08-07T21:16:04.604342Z",
     "start_time": "2025-08-07T21:16:04.566284Z"
    }
   },
   "cell_type": "code",
   "source": [
    "print(\" -------- Describe -------- \")\n",
    "print(db.describe()) ## Statistics for int columns"
   ],
   "id": "5645471594d05181",
   "outputs": [
    {
     "name": "stdout",
     "output_type": "stream",
     "text": [
      " -------- Describe -------- \n",
      "       CustomerID         Age  Annual Income (k$)  Spending Score (1-100)\n",
      "count  200.000000  200.000000          200.000000              200.000000\n",
      "mean   100.500000   38.850000           60.560000               50.200000\n",
      "std     57.879185   13.969007           26.264721               25.823522\n",
      "min      1.000000   18.000000           15.000000                1.000000\n",
      "25%     50.750000   28.750000           41.500000               34.750000\n",
      "50%    100.500000   36.000000           61.500000               50.000000\n",
      "75%    150.250000   49.000000           78.000000               73.000000\n",
      "max    200.000000   70.000000          137.000000               99.000000\n"
     ]
    }
   ],
   "execution_count": 7
  },
  {
   "metadata": {
    "ExecuteTime": {
     "end_time": "2025-08-07T21:16:07.926520Z",
     "start_time": "2025-08-07T21:16:07.916649Z"
    }
   },
   "cell_type": "code",
   "source": [
    "print(\" -------- Null values Column -------- \")\n",
    "print(db.isnull().sum())"
   ],
   "id": "8ea66a2330c628bc",
   "outputs": [
    {
     "name": "stdout",
     "output_type": "stream",
     "text": [
      " -------- Null values Column -------- \n",
      "CustomerID                0\n",
      "Genre                     0\n",
      "Age                       0\n",
      "Annual Income (k$)        0\n",
      "Spending Score (1-100)    0\n",
      "dtype: int64\n"
     ]
    }
   ],
   "execution_count": 8
  },
  {
   "metadata": {
    "ExecuteTime": {
     "end_time": "2025-08-07T21:16:10.565901Z",
     "start_time": "2025-08-07T21:16:10.554686Z"
    }
   },
   "cell_type": "code",
   "source": [
    "print(\" -------- Unique Values Column -------- \")\n",
    "print(db.nunique())"
   ],
   "id": "8f60696d983712f2",
   "outputs": [
    {
     "name": "stdout",
     "output_type": "stream",
     "text": [
      " -------- Unique Values Column -------- \n",
      "CustomerID                200\n",
      "Genre                       2\n",
      "Age                        51\n",
      "Annual Income (k$)         64\n",
      "Spending Score (1-100)     84\n",
      "dtype: int64\n"
     ]
    }
   ],
   "execution_count": 9
  },
  {
   "metadata": {
    "ExecuteTime": {
     "end_time": "2025-08-07T21:16:13.811972Z",
     "start_time": "2025-08-07T21:16:13.799936Z"
    }
   },
   "cell_type": "code",
   "source": [
    "print(\" -------- Duplicate Rows -------- \")\n",
    "print(db.duplicated().sum())"
   ],
   "id": "3f4015c8e8ce6f1c",
   "outputs": [
    {
     "name": "stdout",
     "output_type": "stream",
     "text": [
      " -------- Duplicate Rows -------- \n",
      "0\n"
     ]
    }
   ],
   "execution_count": 10
  },
  {
   "metadata": {
    "ExecuteTime": {
     "end_time": "2025-08-07T21:24:55.530390Z",
     "start_time": "2025-08-07T21:24:55.136675Z"
    }
   },
   "cell_type": "code",
   "source": [
    "plt.figure(figsize=(6,4))\n",
    "db['Annual Income (k$)'].hist(bins=10)\n",
    "plt.title('Annual Income (k$)')\n",
    "plt.show()"
   ],
   "id": "21f76a9549445227",
   "outputs": [
    {
     "data": {
      "text/plain": [
       "<Figure size 600x400 with 1 Axes>"
      ],
      "image/png": "[encoded data removed]"
     },
     "metadata": {},
     "output_type": "display_data"
    }
   ],
   "execution_count": 13
  },
  {
   "metadata": {
    "ExecuteTime": {
     "end_time": "2025-08-07T21:25:56.537636Z",
     "start_time": "2025-08-07T21:25:56.163211Z"
    }
   },
   "cell_type": "code",
   "source": [
    "plt.figure(figsize=(6,4))\n",
    "db['Spending Score (1-100)'].hist(bins=10)\n",
    "plt.title('Spending Score (1-100)')\n",
    "plt.show()"
   ],
   "id": "f9c6b9ce7761b687",
   "outputs": [
    {
     "data": {
      "text/plain": [
       "<Figure size 600x400 with 1 Axes>"
      ],
      "image/png": "[encoded data removed]"
     },
     "metadata": {},
     "output_type": "display_data"
    }
   ],
   "execution_count": 14
  },
  {
   "metadata": {},
   "cell_type": "markdown",
   "source": "### Data Preprocessing",
   "id": "1ebdb452b9656534"
  },
  {
   "metadata": {},
   "cell_type": "code",
   "outputs": [],
   "execution_count": null,
   "source": "",
   "id": "9084891238744791"
  }
 ],
 "metadata": {
  "kernelspec": {
   "display_name": "Python 3",
   "language": "python",
   "name": "python3"
  },
  "language_info": {
   "codemirror_mode": {
    "name": "ipython",
    "version": 2
   },
   "file_extension": ".py",
   "mimetype": "text/x-python",
   "name": "python",
   "nbconvert_exporter": "python",
   "pygments_lexer": "ipython2",
   "version": "2.7.6"
  }
 },
 "nbformat": 4,
 "nbformat_minor": 5
}
